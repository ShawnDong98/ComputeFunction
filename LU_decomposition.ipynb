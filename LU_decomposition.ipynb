{
 "metadata": {
  "language_info": {
   "codemirror_mode": {
    "name": "ipython",
    "version": 3
   },
   "file_extension": ".py",
   "mimetype": "text/x-python",
   "name": "python",
   "nbconvert_exporter": "python",
   "pygments_lexer": "ipython3",
   "version": "3.6.12-final"
  },
  "orig_nbformat": 2,
  "kernelspec": {
   "name": "python3",
   "display_name": "Python 3.6.12 64-bit ('torch17': conda)",
   "metadata": {
    "interpreter": {
     "hash": "8a9d2d990d43a7b8b5a40ad7a247a863dfdb3c30485697f32964ec6c0d55dec2"
    }
   }
  }
 },
 "nbformat": 4,
 "nbformat_minor": 2,
 "cells": [
  {
   "source": [
    "# LU分解\n",
    "\n",
    "$$u_{ij} = a_{ij} - \\sum_{k=1}^{i-1}l_{ik}u_{kj}, \\qquad j=i, i+1, ..., n$$\n",
    "\n",
    "$$l_{ij} = \\frac{a_{ij} - \\sum_{k=1}^{j-1}l_{ik}u_{kj}}{u_{jj}}, \\qquad i = j+1, j+2, ..., n$$"
   ],
   "cell_type": "markdown",
   "metadata": {}
  },
  {
   "cell_type": "code",
   "execution_count": 42,
   "metadata": {},
   "outputs": [],
   "source": [
    "import numpy as np\n",
    "import pandas as pd\n",
    "\n",
    "def LU_decomposition(A):\n",
    "    n = len(A[0])\n",
    "    L = np.zeros([n, n])\n",
    "    U = np.zeros([n, n])\n",
    "    for i in range(n):\n",
    "        L[i][i] = 1\n",
    "        # 第一行\n",
    "        if i == 0:\n",
    "            U[0][0] = A[0][0]\n",
    "            for j in range(1, n):\n",
    "                # U 第一行\n",
    "                U[0][j] = A[0][j]\n",
    "                # L 第一列\n",
    "                L[j][0] = A[j][0] / U[0][0]\n",
    "        else:\n",
    "            for j in range(i, n):\n",
    "                Sum = 0\n",
    "                for k in range(0, i):\n",
    "                    Sum = Sum + L[i][k] * U[k][j]\n",
    "                U[i][j] = A[i][j] - Sum\n",
    "            for j in range(i+1, n):\n",
    "                Sum = 0\n",
    "                for k in range(0, j):\n",
    "                    Sum = Sum + L[j][k] * U[k][i]\n",
    "                L[j][i] = (A[j][i] - Sum) / U[i][i]\n",
    "\n",
    "    return L, U\n",
    "\n",
    "\n",
    "# 顺序主子式\n",
    "def Sequential_Principal_Minor(A):\n",
    "    for i in range(1, len(A)+1):\n",
    "        t = A[0:i, 0:i]\n",
    "        t_det = np.linalg.det(t)\n",
    "        # print(t_det)\n",
    "        if(t_det == 0):\n",
    "            return False\n",
    "    return True\n"
   ]
  },
  {
   "cell_type": "code",
   "execution_count": 43,
   "metadata": {},
   "outputs": [
    {
     "output_type": "stream",
     "name": "stdout",
     "text": [
      "L: \n [[ 1.          0.          0.        ]\n [-0.2         1.          0.        ]\n [ 0.4        -0.86363636  1.        ]]\nU: \n [[ 5.   2.   1. ]\n [ 0.   4.4  2.2]\n [ 0.   0.  11.5]]\n由Ly = b可得： \ny:  [-12.   17.6  23. ]\n由Ux = y可得： \nx:  [-4.  3.  2.]\n"
     ]
    }
   ],
   "source": [
    "A = np.array(\n",
    "    [[5, 2, 1],\n",
    "     [-1, 4, 2],\n",
    "     [2, -3, 10]]\n",
    "    )\n",
    "b = np.array([-12, 20, 3])\n",
    "# 如果所有顺序主子式不等于0\n",
    "if(Sequential_Principal_Minor(A)!=False):\n",
    "    L, U = LU_decomposition(A)\n",
    "    print(\"L: \\n\", L)\n",
    "    print(\"U: \\n\", U)\n",
    "\n",
    "    y = np.linalg.solve(L, b)\n",
    "    print(\"由Ly = b可得： \")\n",
    "    print(\"y: \", y)\n",
    "\n",
    "    x = np.linalg.solve(U, y)\n",
    "    print(\"由Ux = y可得： \")\n",
    "    print(\"x: \", x)\n",
    "    \n",
    "else:\n",
    "    print(\"存在顺序主子式为0， A不存在唯一的三角分解\")"
   ]
  },
  {
   "cell_type": "code",
   "execution_count": null,
   "metadata": {},
   "outputs": [],
   "source": []
  }
 ]
}
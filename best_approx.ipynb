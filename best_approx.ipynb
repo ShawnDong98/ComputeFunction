{
 "metadata": {
  "language_info": {
   "codemirror_mode": {
    "name": "ipython",
    "version": 3
   },
   "file_extension": ".py",
   "mimetype": "text/x-python",
   "name": "python",
   "nbconvert_exporter": "python",
   "pygments_lexer": "ipython3",
   "version": "3.6.12-final"
  },
  "orig_nbformat": 2,
  "kernelspec": {
   "name": "Python 3.6.12 64-bit ('torch17': conda)",
   "display_name": "Python 3.6.12 64-bit ('torch17': conda)",
   "metadata": {
    "interpreter": {
     "hash": "8a9d2d990d43a7b8b5a40ad7a247a863dfdb3c30485697f32964ec6c0d55dec2"
    }
   }
  }
 },
 "nbformat": 4,
 "nbformat_minor": 2,
 "cells": [
  {
   "source": [
    "### $$f(x) = \\sqrt{1+x^2}$$\n",
    "\n",
    "### $$M = span\\{1, x\\}$$\n",
    "\n",
    "### 记  $\\varphi_0(x) = 1$, $\\varphi_1(x) = x$\n",
    "\n",
    "\n",
    "### 计算系数矩阵："
   ],
   "cell_type": "markdown",
   "metadata": {}
  },
  {
   "cell_type": "code",
   "execution_count": 22,
   "metadata": {},
   "outputs": [
    {
     "output_type": "stream",
     "name": "stdout",
     "text": [
      "(varphi_0, varphi_0)的内积结果: 1.0\n(varphi_0, varphi_1)的内积结果: 0.5\n(varphi_0, varphi_1)的内积结果: 0.5\n(varphi_1, varphi_1)的内积结果: 0.33333333333333337\n(f, varphi_0)的内积结果: 1.147793574696319\n(f, varphi_1)的内积结果: 0.6094757082487301\n"
     ]
    }
   ],
   "source": [
    "import numpy as np\n",
    "from scipy import integrate\n",
    "\n",
    "x = sympy.symbols('x')\n",
    "\n",
    "def inner_product_varphi0_varphi0(x):\n",
    "    return 1\n",
    "\n",
    "def inner_product_varphi0_varphi1(x):\n",
    "    return x\n",
    "\n",
    "def inner_product_varphi1_varphi0(x):\n",
    "    return x\n",
    "\n",
    "def inner_product_varphi1_varphi1(x):\n",
    "    return x**2\n",
    "\n",
    "\n",
    "def inner_product_f_varphi0(x):\n",
    "    return np.sqrt(1+x**2)\n",
    "\n",
    "def inner_product_f_varphi1(x):\n",
    "    return x * np.sqrt(1+x**2)\n",
    "\n",
    "\n",
    "print(f\"(varphi_0, varphi_0)的内积结果: {integrate.quad(inner_product_varphi0_varphi0, 0, 1)[0]}\")\n",
    "print(f\"(varphi_0, varphi_1)的内积结果: {integrate.quad(inner_product_varphi0_varphi1, 0, 1)[0]}\")\n",
    "print(f\"(varphi_0, varphi_1)的内积结果: {integrate.quad(inner_product_varphi1_varphi0, 0, 1)[0]}\")\n",
    "print(f\"(varphi_1, varphi_1)的内积结果: {integrate.quad(inner_product_varphi1_varphi1, 0, 1)[0]}\")\n",
    "\n",
    "print(f\"(f, varphi_0)的内积结果: {integrate.quad(inner_product_f_varphi0, 0, 1)[0]}\")\n",
    "print(f\"(f, varphi_1)的内积结果: {integrate.quad(inner_product_f_varphi1, 0, 1)[0]}\")\n"
   ]
  },
  {
   "source": [
    "### 求解法方程"
   ],
   "cell_type": "markdown",
   "metadata": {}
  },
  {
   "cell_type": "code",
   "execution_count": 31,
   "metadata": {},
   "outputs": [
    {
     "output_type": "stream",
     "name": "stdout",
     "text": [
      "系数矩阵A为： \n [[1.    0.5  ]\n [0.5   0.333]]\nb为： [1.148 0.609]\n解得alpha： [0.93715663 0.42168675]\n"
     ]
    }
   ],
   "source": [
    "A = np.array([[1, 0.5], [0.5, 0.333]])\n",
    "b = np.array([1.148, 0.609])\n",
    "\n",
    "alpha = np.linalg.solve(A, b)\n",
    "print(f\"系数矩阵A为： \\n {A}\")\n",
    "print(f\"b为： {b}\")\n",
    "print(f\"解得alpha： {alpha}\")"
   ]
  },
  {
   "source": [
    "### 因此$f(t) = \\sqrt{1 + t^2}$的最佳平方逼近多项式为：\n",
    "\n",
    "$$s^*(x) = 0.93715663 + 0.42168675x$$\n",
    "\n",
    "### 计算均方误差：\n",
    "\n",
    "$$\\| \\delta \\|_2 = \\sqrt{(f, f) - \\sum_{i=0}^1 \\alpha_i * (f, \\varphi_i)}$$"
   ],
   "cell_type": "markdown",
   "metadata": {}
  },
  {
   "cell_type": "code",
   "execution_count": 35,
   "metadata": {},
   "outputs": [
    {
     "output_type": "stream",
     "name": "stdout",
     "text": [
      "(f, f)的内积结果: 1.3333333333333333\n均方误差为： 0.025889985386886274\n"
     ]
    }
   ],
   "source": [
    "def inner_product_f_f(x):\n",
    "    return 1 + x**2\n",
    "\n",
    "alpha0 = 0.93715663\n",
    "alpha1 = 0.42168675\n",
    "\n",
    "f_varphi0 = 1.148\n",
    "f_varphi1 = 0.609\n",
    "\n",
    "f_f = integrate.quad(inner_product_f_f, 0, 1)[0]\n",
    "\n",
    "print(f\"(f, f)的内积结果: {integrate.quad(inner_product_f_f, 0, 1)[0]}\")\n",
    "\n",
    "delta_2 = np.sqrt(f_f - (alpha0 * f_varphi0 + alpha1 * f_varphi1))\n",
    "print(f\"均方误差为： {delta_2}\")"
   ]
  },
  {
   "cell_type": "code",
   "execution_count": null,
   "metadata": {},
   "outputs": [],
   "source": []
  }
 ]
}
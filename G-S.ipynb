{
 "metadata": {
  "language_info": {
   "codemirror_mode": {
    "name": "ipython",
    "version": 3
   },
   "file_extension": ".py",
   "mimetype": "text/x-python",
   "name": "python",
   "nbconvert_exporter": "python",
   "pygments_lexer": "ipython3",
   "version": "3.6.12-final"
  },
  "orig_nbformat": 2,
  "kernelspec": {
   "name": "python3",
   "display_name": "Python 3.6.12 64-bit ('torch17': conda)",
   "metadata": {
    "interpreter": {
     "hash": "8a9d2d990d43a7b8b5a40ad7a247a863dfdb3c30485697f32964ec6c0d55dec2"
    }
   }
  }
 },
 "nbformat": 4,
 "nbformat_minor": 2,
 "cells": [
  {
   "source": [
    "# Gauss-Seidel迭代法\n",
    "\n",
    "$$\n",
    "\\begin{cases}\n",
    "x_{1}^{(k+1)} = x_1^{(k)} + \\frac{1}{a_{11}}(-a_{11}x_1^{(k)} - a_{12}x_2^{(k)} - a_{13}x_3^{(k)} - ... - a_{1n}x_n^{(k)} + b_1) \\\\\n",
    "x_{2}^{(k+1)} = x_2^{(k)} + \\frac{1}{a_{22}}(-a_{21}x_1^{(k+1)} - a_{22}x_2^{(k)} - a_{23}x_3^{(k)} - ... - a_{2n}x_n^{(k)} + b_2) \\\\\n",
    "\\vdots \\\\\n",
    "x_{n}^{(k+1)} = x_n^{(k)} + \\frac{1}{a_{nn}}(-a_{n1}x_1^{(k+1)} - a_{n2}x_2^{(k+1)} - a_{n3}x_3^{(k+1)} - ... - a_{nn-1}x_{n-1}^{(k+1)} - a_{nn}x_n^{(k)} + b_n) \n",
    "\\end{cases}\n",
    "$$"
   ],
   "cell_type": "markdown",
   "metadata": {}
  },
  {
   "cell_type": "code",
   "execution_count": 9,
   "metadata": {},
   "outputs": [],
   "source": [
    "import numpy as np\n",
    "\n",
    "def G_S(x0,A,b):\n",
    "    \n",
    "    k = 0\n",
    "    eps = 1e-8\n",
    "    flag = True\n",
    "    count = 1\n",
    "    \n",
    "    n = x0.shape[0]\n",
    "    x = np.empty([n,1])\n",
    "    \n",
    "    while flag:\n",
    "        for i in range(0,n):\n",
    "            # @运算表示matmul\n",
    "            if i!= 0:\n",
    "                x0[i-1] = x[i-1]\n",
    "            x[i] = (b[i] - A[i,:]@x0 + A[i,i]*x0[i])/A[i,i]\n",
    "            \n",
    "        \n",
    "        print('No.{}:\\nx = {}'.format(count,x))\n",
    "        count += 1\n",
    "        \n",
    "        if np.linalg.norm(x-x0,np.inf)<eps:\n",
    "            flag = False\n",
    "            print('The optimal value: x = ',x.T)\n",
    "\n",
    "        x0 = x.copy()\n",
    "\n",
    "    return x.T"
   ]
  },
  {
   "cell_type": "code",
   "execution_count": 10,
   "metadata": {
    "tags": []
   },
   "outputs": [
    {
     "output_type": "stream",
     "name": "stdout",
     "text": [
      "No.1:\nx = [[-2.4]\n [ 4.5]\n [ 1.9]]\nNo.2:\nx = [[-4.58  ]\n [ 2.905 ]\n [ 2.0875]]\nNo.3:\nx = [[-3.9795   ]\n [ 2.961375 ]\n [ 1.9843125]]\nNo.4:\nx = [[-3.9814125 ]\n [ 3.01249062]\n [ 2.00002969]]\nNo.5:\nx = [[-4.00500219]\n [ 2.99873461]\n [ 2.00062082]]\nNo.6:\nx = [[-3.99961801]\n [ 2.99978509]\n [ 1.99985913]]\nNo.7:\nx = [[-3.99988586]\n [ 3.00009897]\n [ 2.00000686]]\nNo.8:\nx = [[-4.00004096]\n [ 2.99998633]\n [ 2.00000409]]\nNo.9:\nx = [[-3.99999535]\n [ 2.99999912]\n [ 1.99999881]]\nNo.10:\nx = [[-3.99999941]\n [ 3.00000075]\n [ 2.00000011]]\nNo.11:\nx = [[-4.00000032]\n [ 2.99999987]\n [ 2.00000002]]\nNo.12:\nx = [[-3.99999995]\n [ 3.        ]\n [ 1.99999999]]\nNo.13:\nx = [[-4.        ]\n [ 3.00000001]\n [ 2.        ]]\nNo.14:\nx = [[-4.]\n [ 3.]\n [ 2.]]\nThe optimal value: x =  [[-4.  3.  2.]]\n"
     ]
    }
   ],
   "source": [
    "x0 = np.array([[0],[0],[0]])\n",
    "A = np.array([[5, 2, 1],[-1, 4, 2],[2, -3, 10]])\n",
    "b = np.array([[-12],[20],[3]])\n",
    "x = G_S(x0,A,b)  "
   ]
  },
  {
   "cell_type": "code",
   "execution_count": null,
   "metadata": {},
   "outputs": [],
   "source": []
  }
 ]
}
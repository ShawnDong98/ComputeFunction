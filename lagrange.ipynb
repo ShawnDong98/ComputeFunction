{
 "metadata": {
  "language_info": {
   "codemirror_mode": {
    "name": "ipython",
    "version": 3
   },
   "file_extension": ".py",
   "mimetype": "text/x-python",
   "name": "python",
   "nbconvert_exporter": "python",
   "pygments_lexer": "ipython3",
   "version": "3.6.12-final"
  },
  "orig_nbformat": 2,
  "kernelspec": {
   "name": "Python 3.6.12 64-bit ('torch17': conda)",
   "display_name": "Python 3.6.12 64-bit ('torch17': conda)",
   "metadata": {
    "interpreter": {
     "hash": "8a9d2d990d43a7b8b5a40ad7a247a863dfdb3c30485697f32964ec6c0d55dec2"
    }
   }
  }
 },
 "nbformat": 4,
 "nbformat_minor": 2,
 "cells": [
  {
   "cell_type": "code",
   "execution_count": 59,
   "metadata": {},
   "outputs": [
    {
     "output_type": "stream",
     "name": "stdout",
     "text": [
      "积分下限为0， 上限为1的积分结果： 0.7468241328124271\n积分下限为0， 上限为2的积分结果： 0.8820813907624215\n"
     ]
    }
   ],
   "source": [
    "from scipy import integrate\n",
    "import sympy\n",
    "\n",
    "def f(x):\n",
    "    return sympy.exp(- x ** 2)\n",
    "\n",
    "def integral(f, low, high):\n",
    "    y, err = integrate.quad(f, low, high)\n",
    "\n",
    "y1, err1 = integrate.quad(f, 0, 1)\n",
    "print(f\"积分下限为0， 上限为1的积分结果： {y1}\")\n",
    "y2, err2 = integrate.quad(f, 0, 2)\n",
    "print(f\"积分下限为0， 上限为2的积分结果： {y2}\")"
   ]
  },
  {
   "source": [
    "### Lagrange插值法公式：\n",
    "\n",
    "$$L_n(x) = l_0(x)y_0 + l_1(x)y_1 + ... + l_n(x)y_n = \\sum_{k=0}^n l_k(x)y_k$$\n",
    "\n",
    "### 其中：\n",
    "\n",
    "$$l_k(x) = \\prod_{i=0, i \\neq k} \\frac{(x - x_i)}{x_k - x_i}$$"
   ],
   "cell_type": "markdown",
   "metadata": {}
  },
  {
   "cell_type": "code",
   "execution_count": 2,
   "metadata": {},
   "outputs": [
    {
     "output_type": "stream",
     "name": "stdout",
     "text": [
      "拉格朗日插值:  \n0.1353 x + 0.6116\n"
     ]
    }
   ],
   "source": [
    "import numpy as np\n",
    "\n",
    "X = [1, 2]\n",
    "w = [0.7468241328124271, 0.8820813907624215]\n",
    "def lagrange(x, w):\n",
    "    M = len(x)\n",
    "    p = 0.0\n",
    "    for j in range(M):\n",
    "        pt = w[j]\n",
    "        for k in range(M):\n",
    "            if k == j:\n",
    "                continue\n",
    "            fac = x[j]-x[k]\n",
    "            pt *= np.poly1d([1.0, -x[k]])/fac\n",
    "        p += pt\n",
    "    return p\n",
    "\n",
    "print(f\"拉格朗日插值: {lagrange(X, w)}\")"
   ]
  },
  {
   "source": [
    "### 拉格朗日插值余项\n",
    "\n",
    "$$R_n(x) = f(x) - L_n(x) = \\frac{f^{(n+1)(\\xi)}}{(n+1)!}\\prod_{i=0}^n(x - x_i)$$\n",
    "\n",
    "$$R_1 = \\frac{1}{2!}\\mid f^{(2)}(\\xi)(x - 1)(x - 2)\\mid \\leq \\frac{1}{2} f^{(2)}(1)(x - 1)(x-2), \\xi \\in (1, 2)$$"
   ],
   "cell_type": "markdown",
   "metadata": {}
  },
  {
   "cell_type": "code",
   "execution_count": 79,
   "metadata": {},
   "outputs": [
    {
     "output_type": "stream",
     "name": "stdout",
     "text": [
      "原式的二阶导数等于： -2*x*exp(-x**2)\n误差为： 0.5*Abs((0.735758882342885*x - 0.735758882342885)*(x - 2))\n"
     ]
    }
   ],
   "source": [
    "#求导使用diff方法\n",
    "x = sympy.Symbol('x')\n",
    "f = sympy.exp(-x**2)\n",
    "f1 = sympy.diff(f, x)\n",
    "print(f\"原式的二阶导数等于： {f1}\")\n",
    "\n",
    "# 计算1时的二阶导数值\n",
    "result=f1.evalf(subs={x:1})\n",
    "\n",
    "R1 = 1/2 * sympy.Abs(result * (x - 1) * (x - 2))\n",
    "print(f\"误差为： {R1}\")"
   ]
  },
  {
   "cell_type": "code",
   "execution_count": null,
   "metadata": {},
   "outputs": [],
   "source": []
  }
 ]
}
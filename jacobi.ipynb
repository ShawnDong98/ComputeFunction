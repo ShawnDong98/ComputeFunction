{
 "metadata": {
  "language_info": {
   "codemirror_mode": {
    "name": "ipython",
    "version": 3
   },
   "file_extension": ".py",
   "mimetype": "text/x-python",
   "name": "python",
   "nbconvert_exporter": "python",
   "pygments_lexer": "ipython3",
   "version": "3.6.12-final"
  },
  "orig_nbformat": 2,
  "kernelspec": {
   "name": "python3",
   "display_name": "Python 3.6.12 64-bit ('torch17': conda)",
   "metadata": {
    "interpreter": {
     "hash": "8a9d2d990d43a7b8b5a40ad7a247a863dfdb3c30485697f32964ec6c0d55dec2"
    }
   }
  }
 },
 "nbformat": 4,
 "nbformat_minor": 2,
 "cells": [
  {
   "source": [
    "# Jacobi迭代法\n",
    "\n",
    "$$\n",
    "\\begin{cases}\n",
    "x_{1}^{(k+1)} = x_1^{(k)} + \\frac{1}{a_{11}}(-a_{11}x_1^{(k)} - a_{12}x_2^{(k)} - a_{13}x_3^{(k)} - ... - a_{1n}x_n^{(k)} + b_1) \\\\\n",
    "x_{2}^{(k+1)} = x_2^{(k)} + \\frac{1}{a_{22}}(-a_{21}x_1^{(k)} - a_{22}x_2^{(k)} - a_{23}x_3^{(k)} - ... - a_{2n}x_n^{(k)} + b_2) \\\\\n",
    "\\vdots \\\\\n",
    "x_{n}^{(k+1)} = x_n^{(k)} + \\frac{1}{a_{nn}}(-a_{n1}x_1^{(k)} - a_{n2}x_2^{(k)} - a_{n3}x_3^{(k)} - ... - a_{nn}x_n^{(k)} + b_n) \n",
    "\\end{cases}\n",
    "$$"
   ],
   "cell_type": "markdown",
   "metadata": {}
  },
  {
   "cell_type": "code",
   "execution_count": 12,
   "metadata": {},
   "outputs": [],
   "source": [
    "import numpy as np\n",
    "\n",
    "def Jacobi(x0,A,b):\n",
    "    \n",
    "    k = 0\n",
    "    eps = 1e-8\n",
    "    flag = True\n",
    "    count = 1\n",
    "    \n",
    "    n = x0.shape[0]\n",
    "    x = np.empty([n,1])\n",
    "    \n",
    "    while flag:\n",
    "        for i in range(0,n):\n",
    "            # @运算表示matmul\n",
    "            x[i] = (b[i] - A[i,:]@x0 + A[i,i]*x0[i])/A[i,i]\n",
    "        \n",
    "        print('No.{}:\\nx = {}'.format(count,x))\n",
    "        count += 1\n",
    "        \n",
    "        if np.linalg.norm(x-x0,np.inf)<eps:\n",
    "            flag = False\n",
    "            print('The optimal value: x = ',x.T)\n",
    "\n",
    "        x0 = x.copy()\n",
    "\n",
    "    return x.T"
   ]
  },
  {
   "cell_type": "code",
   "execution_count": 13,
   "metadata": {
    "tags": []
   },
   "outputs": [
    {
     "output_type": "stream",
     "name": "stdout",
     "text": [
      "No.1:\nx = [[-2.4]\n [ 5. ]\n [ 0.3]]\nNo.2:\nx = [[-4.46]\n [ 4.25]\n [ 2.28]]\nNo.3:\nx = [[-4.556]\n [ 2.745]\n [ 2.467]]\nNo.4:\nx = [[-3.9914]\n [ 2.6275]\n [ 2.0347]]\nNo.5:\nx = [[-3.85794]\n [ 2.9848 ]\n [ 1.88653]]\nNo.6:\nx = [[-3.971226]\n [ 3.09225 ]\n [ 1.967028]]\nNo.7:\nx = [[-4.0303056]\n [ 3.0236795]\n [ 2.0219202]]\nNo.8:\nx = [[-4.01385584]\n [ 2.9814635 ]\n [ 2.01316497]]\nNo.9:\nx = [[-3.99521839]\n [ 2.98995355]\n [ 1.99721022]]\nNo.10:\nx = [[-3.99542347]\n [ 3.00259029]\n [ 1.99602975]]\nNo.11:\nx = [[-4.00024207]\n [ 3.00312926]\n [ 1.99986178]]\nNo.12:\nx = [[-4.00122406]\n [ 3.00000859]\n [ 2.00098719]]\nNo.13:\nx = [[-4.00020088]\n [ 2.99920039]\n [ 2.00024739]]\nNo.14:\nx = [[-3.99972963]\n [ 2.99982609]\n [ 1.99980029]]\nNo.15:\nx = [[-3.99989049]\n [ 3.00016745]\n [ 1.99989375]]\nNo.16:\nx = [[-4.00004573]\n [ 3.0000805 ]\n [ 2.00002833]]\nNo.17:\nx = [[-4.00003787]\n [ 2.9999744 ]\n [ 2.0000333 ]]\nNo.18:\nx = [[-3.99999642]\n [ 2.99997389]\n [ 1.99999989]]\nNo.19:\nx = [[-3.99998953]\n [ 3.00000095]\n [ 1.99999145]]\nNo.20:\nx = [[-3.99999867]\n [ 3.00000689]\n [ 1.99999819]]\nNo.21:\nx = [[-4.00000239]\n [ 3.00000124]\n [ 2.0000018 ]]\nNo.22:\nx = [[-4.00000086]\n [ 2.9999985 ]\n [ 2.00000085]]\nNo.23:\nx = [[-3.99999957]\n [ 2.99999936]\n [ 1.99999972]]\nNo.24:\nx = [[-3.99999969]\n [ 3.00000025]\n [ 1.99999972]]\nNo.25:\nx = [[-4.00000004]\n [ 3.00000022]\n [ 2.00000001]]\nNo.26:\nx = [[-4.00000009]\n [ 2.99999998]\n [ 2.00000007]]\nNo.27:\nx = [[-4.00000001]\n [ 2.99999994]\n [ 2.00000001]]\nNo.28:\nx = [[-3.99999998]\n [ 2.99999999]\n [ 1.99999998]]\nNo.29:\nx = [[-3.99999999]\n [ 3.00000001]\n [ 1.99999999]]\nNo.30:\nx = [[-4.        ]\n [ 3.00000001]\n [ 2.        ]]\nNo.31:\nx = [[-4.]\n [ 3.]\n [ 2.]]\nThe optimal value: x =  [[-4.  3.  2.]]\n"
     ]
    }
   ],
   "source": [
    "x0 = np.array([[0],[0],[0]])\n",
    "A = np.array([[5, 2, 1],[-1, 4, 2],[2, -3, 10]])\n",
    "b = np.array([[-12],[20],[3]])\n",
    "x = Jacobi(x0,A,b)  "
   ]
  },
  {
   "cell_type": "code",
   "execution_count": null,
   "metadata": {},
   "outputs": [],
   "source": []
  }
 ]
}
{
 "metadata": {
  "language_info": {
   "codemirror_mode": {
    "name": "ipython",
    "version": 3
   },
   "file_extension": ".py",
   "mimetype": "text/x-python",
   "name": "python",
   "nbconvert_exporter": "python",
   "pygments_lexer": "ipython3",
   "version": "3.6.12-final"
  },
  "orig_nbformat": 2,
  "kernelspec": {
   "name": "python3",
   "display_name": "Python 3"
  }
 },
 "nbformat": 4,
 "nbformat_minor": 2,
 "cells": [
  {
   "cell_type": "code",
   "execution_count": 6,
   "metadata": {},
   "outputs": [
    {
     "output_type": "execute_result",
     "data": {
      "text/plain": [
       "0.459707744927311"
      ]
     },
     "metadata": {},
     "execution_count": 6
    }
   ],
   "source": [
    "import numpy as np\n",
    "\n",
    "(np.sin(0) + 4 * np.sin(0.25) + 4 * np.sin(0.75) + 2 * np.sin(0.5) + np.sin(1))/12"
   ]
  },
  {
   "source": [
    "### 梯形公式\n",
    "\n",
    "$$T(f) = \\frac{b-a}{2}[f(a) + f(b)]$$\n",
    "\n",
    "其中$a=0$, $b = 1$"
   ],
   "cell_type": "markdown",
   "metadata": {}
  },
  {
   "cell_type": "code",
   "execution_count": 1,
   "metadata": {},
   "outputs": [
    {
     "output_type": "stream",
     "name": "stdout",
     "text": [
      "梯形公式结果为： 0.6839397205857212\n"
     ]
    }
   ],
   "source": [
    "import numpy as np\n",
    "from scipy import integrate\n",
    "\n",
    "def f(x):\n",
    "    return np.exp(-x**2)\n",
    "\n",
    "\n",
    "a = 0\n",
    "b = 1\n",
    "\n",
    "T = (b - a)/2 * (f(a) + f(b))\n",
    "print(f\"梯形公式结果为： {T}\")"
   ]
  },
  {
   "source": [
    "### Simpson公式\n",
    "\n",
    "$$S(f) = \\frac{b - a}{6}[f(a) + 4f(\\frac{a+b}{2}) + f(b)]$$\n",
    "\n",
    "其中$a=0, b=1$\n"
   ],
   "cell_type": "markdown",
   "metadata": {}
  },
  {
   "cell_type": "code",
   "execution_count": 3,
   "metadata": {},
   "outputs": [
    {
     "output_type": "stream",
     "name": "stdout",
     "text": [
      "Simpson公式结果为： 0.7471804289095104\n"
     ]
    }
   ],
   "source": [
    "import numpy as np\n",
    "from scipy import integrate\n",
    "\n",
    "def f(x):\n",
    "    return np.exp(-x**2)\n",
    "\n",
    "\n",
    "a = 0\n",
    "b = 1\n",
    "\n",
    "S = (b - a)/6 * (f(a) + 4 * f((a+b)/2) +  f(b))\n",
    "print(f\"Simpson公式结果为： {S}\")"
   ]
  },
  {
   "source": [
    "### Cotes公式\n",
    "\n",
    "$$C(f) = \\frac{b-a}{90}[7f(x_0) + 32f(x_1) + 12f(x_2) + 32f(x_3) + 7f(x_4)]$$\n",
    "\n",
    "其中$a = 0, b = 1$, $x_k = a + kh$, $h = \\frac{b - a}{4}$"
   ],
   "cell_type": "markdown",
   "metadata": {}
  },
  {
   "cell_type": "code",
   "execution_count": 5,
   "metadata": {},
   "outputs": [
    {
     "output_type": "stream",
     "name": "stdout",
     "text": [
      "Cotes公式结果为： 0.7468337098497525\n"
     ]
    }
   ],
   "source": [
    "import numpy as np\n",
    "from scipy import integrate\n",
    "\n",
    "def f(x):\n",
    "    return np.exp(-x**2)\n",
    "\n",
    "\n",
    "a = 0\n",
    "b = 1\n",
    "\n",
    "h = (b-a)/4\n",
    "x_0 = a\n",
    "x_1 = a + h\n",
    "x_2 = a + 2 * h\n",
    "x_3 = a + 3 * h\n",
    "x_4 = a + 4 * h\n",
    "\n",
    "\n",
    "C = (b - a)/90 * (7 * f(x_0) + 32 * f(x_1) +  12 * f(x_2) + 32 * f(x_3) + 7 * f(x_4))\n",
    "print(f\"Cotes公式结果为： {C}\")"
   ]
  },
  {
   "cell_type": "code",
   "execution_count": null,
   "metadata": {},
   "outputs": [],
   "source": []
  }
 ]
}
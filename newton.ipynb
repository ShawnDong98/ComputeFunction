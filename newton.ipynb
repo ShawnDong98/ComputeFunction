{
 "metadata": {
  "language_info": {
   "codemirror_mode": {
    "name": "ipython",
    "version": 3
   },
   "file_extension": ".py",
   "mimetype": "text/x-python",
   "name": "python",
   "nbconvert_exporter": "python",
   "pygments_lexer": "ipython3",
   "version": "3.6.12-final"
  },
  "orig_nbformat": 2,
  "kernelspec": {
   "name": "Python 3.6.12 64-bit ('torch17': conda)",
   "display_name": "Python 3.6.12 64-bit ('torch17': conda)",
   "metadata": {
    "interpreter": {
     "hash": "8a9d2d990d43a7b8b5a40ad7a247a863dfdb3c30485697f32964ec6c0d55dec2"
    }
   }
  }
 },
 "nbformat": 4,
 "nbformat_minor": 2,
 "cells": [
  {
   "source": [
    "### 零阶差商\n",
    "\n",
    "$$f[x_0] = y_0$$\n",
    "\n",
    "### 一阶差商\n",
    "\n",
    "$$f[x_i, x_j] = \\frac{y_j - y_i}{x_j - x_i}$$\n",
    "\n",
    "### 二阶差商\n",
    "\n",
    "$$f[x_i, x_j, x_k] = \\frac{\\frac{y_k- y_j]}{x_k - x_j} - \\frac{y_j - y_i}{x_j - x_i}}{x_k - x_i} = \\frac{f[x_j, x_k] - f[x_i, x_j]}{x_k-x_i}$$\n",
    "\n",
    "### n阶差商\n",
    "\n",
    "$$f[x_0, x_1, ..., x_n] = \\frac{f[x_1, ..., x_{n}] - f[x_0, ..., x_{n-1}]}{x_n - x_0}$$"
   ],
   "cell_type": "markdown",
   "metadata": {}
  },
  {
   "cell_type": "code",
   "execution_count": 12,
   "metadata": {},
   "outputs": [
    {
     "output_type": "execute_result",
     "data": {
      "text/plain": [
       "   x值     0阶差商        1阶差商         2阶差商         3阶差商         4阶差商\n",
       "0   0  0.00000                                                   \n",
       "1  30  0.50000   0.0166667                                       \n",
       "2  45  0.70711   0.0138073 -6.35407e-05                          \n",
       "3  60  0.86603   0.0105947 -0.000107089 -7.25802e-07             \n",
       "4  90  1.00000  0.00446567   -0.0001362 -4.85185e-07  2.67353e-09"
      ],
      "text/html": "<div>\n<style scoped>\n    .dataframe tbody tr th:only-of-type {\n        vertical-align: middle;\n    }\n\n    .dataframe tbody tr th {\n        vertical-align: top;\n    }\n\n    .dataframe thead th {\n        text-align: right;\n    }\n</style>\n<table border=\"1\" class=\"dataframe\">\n  <thead>\n    <tr style=\"text-align: right;\">\n      <th></th>\n      <th>x值</th>\n      <th>0阶差商</th>\n      <th>1阶差商</th>\n      <th>2阶差商</th>\n      <th>3阶差商</th>\n      <th>4阶差商</th>\n    </tr>\n  </thead>\n  <tbody>\n    <tr>\n      <th>0</th>\n      <td>0</td>\n      <td>0.00000</td>\n      <td></td>\n      <td></td>\n      <td></td>\n      <td></td>\n    </tr>\n    <tr>\n      <th>1</th>\n      <td>30</td>\n      <td>0.50000</td>\n      <td>0.0166667</td>\n      <td></td>\n      <td></td>\n      <td></td>\n    </tr>\n    <tr>\n      <th>2</th>\n      <td>45</td>\n      <td>0.70711</td>\n      <td>0.0138073</td>\n      <td>-6.35407e-05</td>\n      <td></td>\n      <td></td>\n    </tr>\n    <tr>\n      <th>3</th>\n      <td>60</td>\n      <td>0.86603</td>\n      <td>0.0105947</td>\n      <td>-0.000107089</td>\n      <td>-7.25802e-07</td>\n      <td></td>\n    </tr>\n    <tr>\n      <th>4</th>\n      <td>90</td>\n      <td>1.00000</td>\n      <td>0.00446567</td>\n      <td>-0.0001362</td>\n      <td>-4.85185e-07</td>\n      <td>2.67353e-09</td>\n    </tr>\n  </tbody>\n</table>\n</div>"
     },
     "metadata": {},
     "execution_count": 12
    }
   ],
   "source": [
    "import pandas as pd\n",
    "from sympy import *\n",
    "\n",
    "x = [0, 30, 45, 60, 90]\n",
    "y = [0, 0.5, 0.70711, 0.86603, 1]\n",
    "\n",
    "df = pd.DataFrame({\"x值\": x, \"0阶差商\":y})\n",
    "\n",
    "for j in range(df.shape[0]-1):\n",
    "    for i in range(df.shape[0]-1):\n",
    "        df.loc[i+1, str(j+1)+\"阶差商\"] = (df.iloc[i+1, j+1] - df.iloc[i, j+1])/(df.iloc[i+1, 0] - df.iloc[i-j, 0])\n",
    "\n",
    "df.fillna(' ')"
   ]
  },
  {
   "source": [
    "由牛顿插值公式可得插值多项式\n",
    "$$N_1(x) = 0 + 0.0166667(x - 0)$$\n",
    "\n",
    "$$N_2(x) = N_1(x) + -6.35407 \\times 10^{-5}(x - 0)(x - 30)$$\n",
    "\n",
    "$$N_3(x) = N_2(x) + -7.25802 \\times 10^{-7}(x - 0)(x - 30)(x - 45)$$\n",
    "\n",
    "$$N_4(x) = N_3(x) + -2.67353 \\times 10^{-9}(x - 0)(x - 30)(x - 45)(x - 60)$$"
   ],
   "cell_type": "markdown",
   "metadata": {}
  },
  {
   "cell_type": "code",
   "execution_count": 14,
   "metadata": {},
   "outputs": [
    {
     "output_type": "stream",
     "name": "stdout",
     "text": [
      "N1(40) = 0.6666666666666666\nN2(40) = 0.6412503703703704\nN3(40) = 0.6427019753086419\nN4(40) = 0.642808916323731\n"
     ]
    }
   ],
   "source": [
    "x = 40\n",
    "N = 0\n",
    "for i in range(4):\n",
    "    w = 1\n",
    "    for j in range(i+1):\n",
    "        w *= (x - df.iloc[j, 0])\n",
    "    N += df.iloc[i+1, i+2] * w\n",
    "    print('N' + str(i+1) + '(40) = ' + f'{N}')"
   ]
  },
  {
   "source": [
    "故$sin40^o \\approx 0.6428089$\n",
    "\n",
    "### 误差\n",
    "\n",
    "$$R_n(x) = \\frac{f^{n+1}(\\xi)}{(n+1)!}\\omega_{n + 1} = \\frac{f^{n+1}(\\xi)}{(n+1)!} \\prod_{i=0}^n (x - x_i)$$\n",
    "\n",
    "\n",
    "$$R_5(x) = \\frac{cos(x)}{5!}(x - 0)(x - 30)(x - 45)(x - 60)(x - 90) \\leq \\frac{1}{5!}(x - 0)(x - 30)(x - 45)(x - 60)(x - 90) * (\\frac{\\pi}{180})^5$$\n",
    "\n",
    "后面的$(\\frac{\\pi}{180})^5$是度转弧度\n"
   ],
   "cell_type": "markdown",
   "metadata": {}
  },
  {
   "cell_type": "code",
   "execution_count": 24,
   "metadata": {},
   "outputs": [
    {
     "output_type": "stream",
     "name": "stdout",
     "text": [
      "sin(x)的5阶导数为： cos(x)\n误差为: -0.0000269920324632651\n"
     ]
    }
   ],
   "source": [
    "from sympy import *\n",
    "\n",
    "x = Symbol('x')\n",
    "f = sin(x)\n",
    "print(f\"sin(x)的5阶导数为： {diff(f, x, 5)}\")\n",
    "\n",
    "\n",
    "# 阶乘\n",
    "jc  = 5 * 4 * 3 * 2 * 1\n",
    "# 误差\n",
    "R =  1 / jc * (x - 0) *(x - 30) * (x - 45) * (x - 60) * (x - 90) * (pi/180) ** 5\n",
    "print(f\"误差为: {R.evalf(subs={x: 40})}\")\n"
   ]
  },
  {
   "cell_type": "code",
   "execution_count": null,
   "metadata": {},
   "outputs": [],
   "source": []
  }
 ]
}
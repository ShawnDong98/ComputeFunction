{
 "metadata": {
  "language_info": {
   "codemirror_mode": {
    "name": "ipython",
    "version": 3
   },
   "file_extension": ".py",
   "mimetype": "text/x-python",
   "name": "python",
   "nbconvert_exporter": "python",
   "pygments_lexer": "ipython3",
   "version": "3.6.12-final"
  },
  "orig_nbformat": 2,
  "kernelspec": {
   "name": "Python 3.6.12 64-bit ('torch17': conda)",
   "display_name": "Python 3.6.12 64-bit ('torch17': conda)",
   "metadata": {
    "interpreter": {
     "hash": "8a9d2d990d43a7b8b5a40ad7a247a863dfdb3c30485697f32964ec6c0d55dec2"
    }
   }
  }
 },
 "nbformat": 4,
 "nbformat_minor": 2,
 "cells": [
  {
   "source": [
    "### 设二次多项式拟合函数为\n",
    "\n",
    "$$s(x) = a_0 + a_1 x + a_2x^2$$\n",
    "\n",
    "### 记$\\varphi_0(x) = 1, \\varphi_1(x) = x, \\varphi_2(x) = x^2$， 并取权$w_i = 1$"
   ],
   "cell_type": "markdown",
   "metadata": {}
  },
  {
   "cell_type": "code",
   "execution_count": 8,
   "metadata": {},
   "outputs": [
    {
     "output_type": "stream",
     "name": "stdout",
     "text": [
      "(varphi_0, varphi_0)的内积结果: 8\n(varphi_0, varphi_1)的内积结果: 22\n(varphi_0, varphi_2)的内积结果: 74\n(varphi_1, varphi_0)的内积结果: 22\n(varphi_1, varphi_1)的内积结果: 74\n(varphi_1, varphi_2)的内积结果: 280\n(varphi_2, varphi_0)的内积结果: 74\n(varphi_2, varphi_1)的内积结果: 280\n(varphi_2, varphi_2)的内积结果: 1142\n(f, varphi_0)的内积结果: 47.0\n(f, varphi_1)的内积结果: 145.5\n(f, varphi_2)的内积结果: 528.5\n"
     ]
    }
   ],
   "source": [
    "def inner_product_varphi0_varphi0(x, y):\n",
    "    sum = 0\n",
    "    for i in range(8):\n",
    "        sum += 1 * 1\n",
    "\n",
    "    return sum\n",
    "\n",
    "\n",
    "def inner_product_varphi0_varphi1(x, y):\n",
    "    sum = 0\n",
    "    for i in range(8):\n",
    "        sum += x[i] * 1\n",
    "\n",
    "    return sum\n",
    "\n",
    "def inner_product_varphi0_varphi2(x, y):\n",
    "    sum = 0\n",
    "    for i in range(8):\n",
    "        sum += x[i]**2  * 1\n",
    "\n",
    "    return sum\n",
    "\n",
    "\n",
    "\n",
    "def inner_product_varphi1_varphi0(x, y):\n",
    "    sum = 0\n",
    "    for i in range(8):\n",
    "        sum += x[i] * 1\n",
    "\n",
    "    return sum\n",
    "\n",
    "def inner_product_varphi1_varphi1(x, y):\n",
    "    sum = 0\n",
    "    for i in range(8):\n",
    "        sum += x[i] * x[i]\n",
    "\n",
    "    return sum\n",
    "\n",
    "\n",
    "def inner_product_varphi1_varphi2(x, y):\n",
    "    sum = 0\n",
    "    for i in range(8):\n",
    "        sum += x[i] * x[i]**2\n",
    "\n",
    "    return sum\n",
    "\n",
    "\n",
    "def inner_product_varphi2_varphi0(x, y):\n",
    "    sum = 0\n",
    "    for i in range(8):\n",
    "        sum += x[i]**2 * 1\n",
    "\n",
    "    return sum\n",
    "\n",
    "\n",
    "def inner_product_varphi2_varphi1(x, y):\n",
    "    sum = 0\n",
    "    for i in range(8):\n",
    "        sum += x[i]**2 * x[i]\n",
    "\n",
    "    return sum\n",
    "\n",
    "def inner_product_varphi2_varphi2(x, y):\n",
    "    sum = 0\n",
    "    for i in range(8):\n",
    "        sum += x[i]**2 * x[i]**2\n",
    "\n",
    "    return sum\n",
    "\n",
    "def inner_product_f_varphi0(x, y):\n",
    "    sum = 0\n",
    "    for i in range(8):\n",
    "        sum += y[i] * 1\n",
    "\n",
    "    return sum\n",
    "\n",
    "def inner_product_f_varphi1(x, y):\n",
    "    sum = 0\n",
    "    for i in range(8):\n",
    "        sum += y[i] * x[i]\n",
    "\n",
    "    return sum\n",
    "\n",
    "def inner_product_f_varphi2(x, y):\n",
    "    sum = 0\n",
    "    for i in range(8):\n",
    "        sum += y[i] * x[i]**2\n",
    "\n",
    "    return sum\n",
    "\n",
    "\n",
    "\n",
    "x = [1, 1, 2, 3, 3, 3, 4, 5]\n",
    "y = [4, 4, 4.5, 6, 6, 6, 8, 8.5]\n",
    "\n",
    "# x = [0.2, 0.5, 0.7, 0.85, 1]\n",
    "# y = [1.221, 1.649, 2.014, 2.340, 2.718]\n",
    "\n",
    "print(f\"(varphi_0, varphi_0)的内积结果: {inner_product_varphi0_varphi0(x, y)}\")\n",
    "print(f\"(varphi_0, varphi_1)的内积结果: {inner_product_varphi0_varphi1(x, y)}\")\n",
    "print(f\"(varphi_0, varphi_2)的内积结果: {inner_product_varphi0_varphi2(x, y)}\")\n",
    "print(f\"(varphi_1, varphi_0)的内积结果: {inner_product_varphi1_varphi0(x, y)}\")\n",
    "print(f\"(varphi_1, varphi_1)的内积结果: {inner_product_varphi1_varphi1(x, y)}\")\n",
    "print(f\"(varphi_1, varphi_2)的内积结果: {inner_product_varphi1_varphi2(x, y)}\")\n",
    "print(f\"(varphi_2, varphi_0)的内积结果: {inner_product_varphi2_varphi0(x, y)}\")\n",
    "print(f\"(varphi_2, varphi_1)的内积结果: {inner_product_varphi2_varphi1(x, y)}\")\n",
    "print(f\"(varphi_2, varphi_2)的内积结果: {inner_product_varphi2_varphi2(x, y)}\")\n",
    "\n",
    "print(f\"(f, varphi_0)的内积结果: {inner_product_f_varphi0(x, y)}\")\n",
    "print(f\"(f, varphi_1)的内积结果: {inner_product_f_varphi1(x, y)}\")\n",
    "print(f\"(f, varphi_2)的内积结果: {inner_product_f_varphi2(x, y)}\")"
   ]
  },
  {
   "source": [
    "### 可得法方程"
   ],
   "cell_type": "markdown",
   "metadata": {}
  },
  {
   "cell_type": "code",
   "execution_count": 9,
   "metadata": {},
   "outputs": [
    {
     "output_type": "stream",
     "name": "stdout",
     "text": [
      "系数矩阵A为： \n [[   8   22   74]\n [  22   74  280]\n [  74  280 1142]]\nb为： [ 47.  145.5 528.5]\n解得alpha： [3.00462963 0.81018519 0.06944444]\n"
     ]
    }
   ],
   "source": [
    "import numpy as np\n",
    "\n",
    "A = np.array([[8, 22, 74], [22, 74, 280], [74, 280, 1142]])\n",
    "b = np.array([47.0, 145.50, 528.5])\n",
    "\n",
    "# A = np.array([[5, 3.25, 2.5025], [3.25, 2.5025, 2.0901249999999996], [2.5025, 2.0901249999999996, 1.8262062499999998]])\n",
    "# b = np.array([9.942, 7.185499999999999, 5.856599999999999])\n",
    "\n",
    "alpha = np.linalg.solve(A, b)\n",
    "print(f\"系数矩阵A为： \\n {A}\")\n",
    "print(f\"b为： {b}\")\n",
    "print(f\"解得alpha： {alpha}\")\n"
   ]
  },
  {
   "source": [
    "### 因此二次拟合多项式为：\n",
    "\n",
    "$$S^*(x) = 3.00462963 + 0.81018519x + 0.06944444x^2$$\n"
   ],
   "cell_type": "markdown",
   "metadata": {}
  },
  {
   "cell_type": "code",
   "execution_count": null,
   "metadata": {},
   "outputs": [],
   "source": []
  }
 ]
}